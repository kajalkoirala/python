{
 "cells": [
  {
   "cell_type": "markdown",
   "id": "82568e1e",
   "metadata": {},
   "source": [
    "question no.A"
   ]
  },
  {
   "cell_type": "code",
   "execution_count": null,
   "id": "daa933f5",
   "metadata": {},
   "outputs": [],
   "source": [
    "question no:1"
   ]
  },
  {
   "cell_type": "code",
   "execution_count": 1,
   "id": "9e070184",
   "metadata": {},
   "outputs": [
    {
     "name": "stdout",
     "output_type": "stream",
     "text": [
      "enter the first number:4\n",
      "enter the second number:2.5\n",
      "enter the third number:1\n",
      "7.5\n"
     ]
    }
   ],
   "source": [
    "a = int(input(\"enter the first number:\"))\n",
    "b = float(input(\"enter the second number:\"))\n",
    "c = int(input(\"enter the third number:\"))\n",
    "sum = a+b+c\n",
    "print(sum)"
   ]
  },
  {
   "cell_type": "markdown",
   "id": "8462e9e9",
   "metadata": {},
   "source": [
    "question no.2"
   ]
  },
  {
   "cell_type": "code",
   "execution_count": 1,
   "id": "f4e779b5",
   "metadata": {},
   "outputs": [
    {
     "ename": "SyntaxError",
     "evalue": "invalid syntax (Temp/ipykernel_21124/2728280161.py, line 1)",
     "output_type": "error",
     "traceback": [
      "\u001b[1;36m  File \u001b[1;32m\"C:\\Users\\DELL\\AppData\\Local\\Temp/ipykernel_21124/2728280161.py\"\u001b[1;36m, line \u001b[1;32m1\u001b[0m\n\u001b[1;33m    list starts with [ ]\u001b[0m\n\u001b[1;37m         ^\u001b[0m\n\u001b[1;31mSyntaxError\u001b[0m\u001b[1;31m:\u001b[0m invalid syntax\n"
     ]
    }
   ],
   "source": [
    "list starts with [ ]\n",
    "example: mylist =[1,2,3]\n",
    "    while tuple starts with ( )\n",
    "    example : single = 1\n",
    "        type(single)"
   ]
  },
  {
   "cell_type": "code",
   "execution_count": null,
   "id": "bfb11ee8",
   "metadata": {
    "collapsed": true
   },
   "outputs": [],
   "source": [
    "question no:3"
   ]
  },
  {
   "cell_type": "code",
   "execution_count": 1,
   "id": "6d66ad28",
   "metadata": {},
   "outputs": [
    {
     "name": "stdout",
     "output_type": "stream",
     "text": [
      "('pandas',)\n"
     ]
    },
    {
     "data": {
      "text/plain": [
       "tuple"
      ]
     },
     "execution_count": 1,
     "metadata": {},
     "output_type": "execute_result"
    }
   ],
   "source": [
    "t = ('pandas',)\n",
    "print(t)\n",
    "type(t)"
   ]
  },
  {
   "cell_type": "markdown",
   "id": "90562e9f",
   "metadata": {},
   "source": [
    "question no:4"
   ]
  },
  {
   "cell_type": "code",
   "execution_count": null,
   "id": "cf0b3cb9",
   "metadata": {},
   "outputs": [],
   "source": [
    "false"
   ]
  },
  {
   "cell_type": "code",
   "execution_count": null,
   "id": "26919202",
   "metadata": {},
   "outputs": [],
   "source": [
    "question no: B"
   ]
  },
  {
   "cell_type": "markdown",
   "id": "f37fd7c1",
   "metadata": {},
   "source": [
    "question no:1"
   ]
  },
  {
   "cell_type": "code",
   "execution_count": 8,
   "id": "c2616856",
   "metadata": {},
   "outputs": [
    {
     "name": "stdout",
     "output_type": "stream",
     "text": [
      "stressed ? ma'am\n"
     ]
    }
   ],
   "source": [
    "s=\"ma'am ? desserts\" \n",
    "stringlength=len(s) \n",
    "slicedString=s[stringlength::-1] \n",
    "print (slicedString)"
   ]
  },
  {
   "cell_type": "markdown",
   "id": "a22a79ad",
   "metadata": {},
   "source": [
    "question no:2"
   ]
  },
  {
   "cell_type": "code",
   "execution_count": 7,
   "id": "51860000",
   "metadata": {},
   "outputs": [
    {
     "name": "stdout",
     "output_type": "stream",
     "text": [
      "[3, 4, [1, 7, 'feri bhetaula']]\n"
     ]
    }
   ],
   "source": [
    "my_lst = [3,4,[1,7,'namaste']]\n",
    "my_lst[2][2]='feri bhetaula'\n",
    "print(my_lst)"
   ]
  },
  {
   "cell_type": "markdown",
   "id": "1c0b5e14",
   "metadata": {},
   "source": [
    "question no:3"
   ]
  },
  {
   "cell_type": "code",
   "execution_count": 16,
   "id": "3c28ada4",
   "metadata": {},
   "outputs": [
    {
     "data": {
      "text/plain": [
       "'DataStructures'"
      ]
     },
     "execution_count": 16,
     "metadata": {},
     "output_type": "execute_result"
    }
   ],
   "source": [
    "dict_one = {'key1':{'key2':'DataStructures'}}\n",
    "i = dict_one['key1']\n",
    "i['key2']\n"
   ]
  },
  {
   "cell_type": "markdown",
   "id": "9906aad7",
   "metadata": {},
   "source": [
    "question no:4"
   ]
  },
  {
   "cell_type": "code",
   "execution_count": 11,
   "id": "98daf443",
   "metadata": {},
   "outputs": [
    {
     "ename": "SyntaxError",
     "evalue": "unmatched ']' (Temp/ipykernel_39352/2389770403.py, line 3)",
     "output_type": "error",
     "traceback": [
      "\u001b[1;36m  File \u001b[1;32m\"C:\\Users\\DELL\\AppData\\Local\\Temp/ipykernel_39352/2389770403.py\"\u001b[1;36m, line \u001b[1;32m3\u001b[0m\n\u001b[1;33m    lst_one[2][0]==lst_two][2]['key']\u001b[0m\n\u001b[1;37m                          ^\u001b[0m\n\u001b[1;31mSyntaxError\u001b[0m\u001b[1;31m:\u001b[0m unmatched ']'\n"
     ]
    }
   ],
   "source": [
    "list_A = [1,2,[3,4]]\n",
    "l\n",
    "\n"
   ]
  },
  {
   "cell_type": "markdown",
   "id": "b8e0e209",
   "metadata": {},
   "source": [
    "question no:c"
   ]
  },
  {
   "cell_type": "code",
   "execution_count": 2,
   "id": "a58c2f54",
   "metadata": {},
   "outputs": [
    {
     "name": "stdout",
     "output_type": "stream",
     "text": [
      "25\n",
      "49\n",
      "81\n",
      "121\n",
      "169\n",
      "225\n"
     ]
    }
   ],
   "source": [
    "a = 5\n",
    "while a<16:\n",
    "    square=a**2\n",
    "    if a%2==1:\n",
    "        print(square)\n",
    "    a=a+1\n"
   ]
  },
  {
   "cell_type": "markdown",
   "id": "c927783a",
   "metadata": {},
   "source": [
    "question no:4"
   ]
  },
  {
   "cell_type": "code",
   "execution_count": 2,
   "id": "cb10e676",
   "metadata": {},
   "outputs": [
    {
     "name": "stdout",
     "output_type": "stream",
     "text": [
      "{'Ford': ['New Hampshire', 'Bruce Mills'], 'Tata': ['Guragaun', 'Rajan Seth'], 'Suzuki': ['Kyoto', 'Hiroshi Nakamoto'], 'BMW': ['Munich', 'Josh Wagner'], 'Toyota': ['Tokyo', 'Narishu Takoma']}\n"
     ]
    }
   ],
   "source": [
    "input_dict = {\"Ford\": [\"New Hampshire\", \"Bruce Mills\"], \"Tata\":\n",
    "[\"Guragaun\",\"Rajan Seth\"],\n",
    "\"Suzuki\": [\"Kyoto\",\"Hiroshi Nakamoto\"], \"BMW\": [\"Munich\",\"Josh Wagner\"],\n",
    "\"Toyota\": [\"Tokyo\", \"Narishu Takoma\"]}\n",
    "                                                \n",
    "print(input_dict)\n",
    "                                                \n"
   ]
  },
  {
   "cell_type": "code",
   "execution_count": 14,
   "id": "a3a1b5fb",
   "metadata": {},
   "outputs": [
    {
     "data": {
      "text/plain": [
       "[('Ford', 'Mills'),\n",
       " ('Tata', 'Seth'),\n",
       " ('Suzuki', 'Nakamoto'),\n",
       " ('BMW', 'Wagner'),\n",
       " ('Toyota', 'Takoma')]"
      ]
     },
     "execution_count": 14,
     "metadata": {},
     "output_type": "execute_result"
    }
   ],
   "source": [
    "def get_last_name(in_args):\n",
    "    out_list = []\n",
    "    for i,j in in_args.items():\n",
    "        t = (i,j[1].split()[1])\n",
    "        out_list.append(t)\n",
    "    return out_list\n",
    "\n",
    "get_last_name(input_dict)"
   ]
  },
  {
   "cell_type": "code",
   "execution_count": 16,
   "id": "62209483",
   "metadata": {},
   "outputs": [
    {
     "ename": "SyntaxError",
     "evalue": "closing parenthesis ')' does not match opening parenthesis '[' (Temp/ipykernel_19060/2145487481.py, line 2)",
     "output_type": "error",
     "traceback": [
      "\u001b[1;36m  File \u001b[1;32m\"C:\\Users\\DELL\\AppData\\Local\\Temp/ipykernel_19060/2145487481.py\"\u001b[1;36m, line \u001b[1;32m2\u001b[0m\n\u001b[1;33m    return[i,j[1].split(\" \")[1]) for i,j in in_args.items()]\u001b[0m\n\u001b[1;37m                               ^\u001b[0m\n\u001b[1;31mSyntaxError\u001b[0m\u001b[1;31m:\u001b[0m closing parenthesis ')' does not match opening parenthesis '['\n"
     ]
    }
   ],
   "source": [
    "def get_last_name(in_args):\n",
    "    return[i,j[1].split(\" \")[1] ) for i,j in in_args.items()]\n",
    "\n",
    "get_last_name_two(input_dict)"
   ]
  },
  {
   "cell_type": "code",
   "execution_count": null,
   "id": "7b667831",
   "metadata": {},
   "outputs": [],
   "source": []
  }
 ],
 "metadata": {
  "kernelspec": {
   "display_name": "Python 3 (ipykernel)",
   "language": "python",
   "name": "python3"
  },
  "language_info": {
   "codemirror_mode": {
    "name": "ipython",
    "version": 3
   },
   "file_extension": ".py",
   "mimetype": "text/x-python",
   "name": "python",
   "nbconvert_exporter": "python",
   "pygments_lexer": "ipython3",
   "version": "3.9.7"
  }
 },
 "nbformat": 4,
 "nbformat_minor": 5
}
